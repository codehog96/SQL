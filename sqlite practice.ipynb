{
 "cells": [
  {
   "cell_type": "markdown",
   "id": "c875d6af-ffda-4175-9a89-0be204fda66a",
   "metadata": {},
   "source": [
    "### simple SQL coding challenge\n",
    "### Challenge:\n",
    "#### You are given a table named Products with the following schema:"
   ]
  },
  {
   "cell_type": "markdown",
   "id": "59322665-059e-49ed-b521-eede98d84ef9",
   "metadata": {},
   "source": [
    "ProductID\tProductName\tCategory\tPrice\tQuantity\n",
    "1\t          Laptop\tElectronics\t1000\t5\n",
    "2\t           Phone\tElectronics\t500\t    10\n",
    "3\t           Chair\tFurniture\t150\t    20\n",
    "4\t           Table\tFurniture\t300\t    15\n",
    "5\t         Headphones\tElectronics\t100\t    25"
   ]
  },
  {
   "cell_type": "markdown",
   "id": "c9e695fa-00d6-4cb4-b934-84a7ae2ae1d0",
   "metadata": {},
   "source": [
    "### Task:\n",
    "\n",
    "#### Write an SQL query to:\n",
    "\t1.\tRetrieve all products in the Electronics category with a price greater than $200.\n",
    "\t2.\tCalculate the total value of stock for each product (Price * Quantity).\n",
    "\t3.\tDisplay the result in descending order of total value."
   ]
  },
  {
   "cell_type": "code",
   "execution_count": 3,
   "id": "8cf91da0-8bc0-421e-8600-a1042d764bfc",
   "metadata": {},
   "outputs": [],
   "source": [
    "import sqlite3\n",
    "import pandas as pd"
   ]
  },
  {
   "cell_type": "code",
   "execution_count": 5,
   "id": "3533140b-59fb-4861-aad9-a875f7838cfb",
   "metadata": {},
   "outputs": [],
   "source": [
    "# Create an in-memory SQLite database\n",
    "conn = sqlite3.connect(':memory:')\n",
    "cursor = conn.cursor()"
   ]
  },
  {
   "cell_type": "code",
   "execution_count": 7,
   "id": "731badb2-b106-4693-ac30-bc01c5b395a3",
   "metadata": {},
   "outputs": [
    {
     "data": {
      "text/plain": [
       "<sqlite3.Cursor at 0x136ccaac0>"
      ]
     },
     "execution_count": 7,
     "metadata": {},
     "output_type": "execute_result"
    }
   ],
   "source": [
    "# Create Products table\n",
    "cursor.execute('''\n",
    "CREATE TABLE Products (\n",
    "    ProductID INTEGER PRIMARY KEY,\n",
    "    ProductName TEXT,\n",
    "    Category TEXT,\n",
    "    Price REAL,\n",
    "    Quantity INTEGER\n",
    ");\n",
    "''')"
   ]
  },
  {
   "cell_type": "code",
   "execution_count": 9,
   "id": "db27c890-36bb-4610-bb44-93d72b517b84",
   "metadata": {},
   "outputs": [],
   "source": [
    "# Insert sample data\n",
    "products_data = [\n",
    "    (1, 'Laptop', 'Electronics', 1000, 5),\n",
    "    (2, 'Phone', 'Electronics', 500, 10),\n",
    "    (3, 'Chair', 'Furniture', 150, 20),\n",
    "    (4, 'Table', 'Furniture', 300, 15),\n",
    "    (5, 'Headphones', 'Electronics', 100, 25)\n",
    "]\n",
    "\n",
    "cursor.executemany(\"INSERT INTO Products VALUES (?, ?, ?, ?, ?)\", products_data)\n",
    "conn.commit()"
   ]
  },
  {
   "cell_type": "code",
   "execution_count": 11,
   "id": "cc93dfe7-7ecd-459f-8a4f-8574cd71701c",
   "metadata": {},
   "outputs": [
    {
     "data": {
      "text/html": [
       "<div>\n",
       "<style scoped>\n",
       "    .dataframe tbody tr th:only-of-type {\n",
       "        vertical-align: middle;\n",
       "    }\n",
       "\n",
       "    .dataframe tbody tr th {\n",
       "        vertical-align: top;\n",
       "    }\n",
       "\n",
       "    .dataframe thead th {\n",
       "        text-align: right;\n",
       "    }\n",
       "</style>\n",
       "<table border=\"1\" class=\"dataframe\">\n",
       "  <thead>\n",
       "    <tr style=\"text-align: right;\">\n",
       "      <th></th>\n",
       "      <th>ProductName</th>\n",
       "      <th>Category</th>\n",
       "      <th>Price</th>\n",
       "      <th>Quantity</th>\n",
       "      <th>TotalValue</th>\n",
       "    </tr>\n",
       "  </thead>\n",
       "  <tbody>\n",
       "    <tr>\n",
       "      <th>0</th>\n",
       "      <td>Laptop</td>\n",
       "      <td>Electronics</td>\n",
       "      <td>1000.0</td>\n",
       "      <td>5</td>\n",
       "      <td>5000.0</td>\n",
       "    </tr>\n",
       "    <tr>\n",
       "      <th>1</th>\n",
       "      <td>Phone</td>\n",
       "      <td>Electronics</td>\n",
       "      <td>500.0</td>\n",
       "      <td>10</td>\n",
       "      <td>5000.0</td>\n",
       "    </tr>\n",
       "  </tbody>\n",
       "</table>\n",
       "</div>"
      ],
      "text/plain": [
       "  ProductName     Category   Price  Quantity  TotalValue\n",
       "0      Laptop  Electronics  1000.0         5      5000.0\n",
       "1       Phone  Electronics   500.0        10      5000.0"
      ]
     },
     "metadata": {},
     "output_type": "display_data"
    }
   ],
   "source": [
    "# SQL Query to solve the challenge\n",
    "query = '''\n",
    "SELECT ProductName, Category, Price, Quantity, (Price * Quantity) AS TotalValue\n",
    "FROM Products\n",
    "WHERE Category = 'Electronics' AND Price > 200\n",
    "ORDER BY TotalValue DESC;\n",
    "'''\n",
    "\n",
    "# Execute and display results\n",
    "df = pd.read_sql_query(query, conn)\n",
    "display(df)\n",
    "\n",
    "# Close connection\n",
    "conn.close()"
   ]
  },
  {
   "cell_type": "code",
   "execution_count": null,
   "id": "54adb005-a38b-4491-adce-55f2b099cf66",
   "metadata": {},
   "outputs": [],
   "source": []
  }
 ],
 "metadata": {
  "kernelspec": {
   "display_name": "Python [conda env:base] *",
   "language": "python",
   "name": "conda-base-py"
  },
  "language_info": {
   "codemirror_mode": {
    "name": "ipython",
    "version": 3
   },
   "file_extension": ".py",
   "mimetype": "text/x-python",
   "name": "python",
   "nbconvert_exporter": "python",
   "pygments_lexer": "ipython3",
   "version": "3.12.7"
  }
 },
 "nbformat": 4,
 "nbformat_minor": 5
}
