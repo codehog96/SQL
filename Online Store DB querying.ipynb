{
 "cells": [
  {
   "cell_type": "markdown",
   "id": "62c275b3-220a-4356-8321-18a24c6e10ba",
   "metadata": {},
   "source": [
    "# SQL Challenge: Online Store Database Querying\n",
    "\n",
    "This notebook demonstrates a simple SQL challenge using an online store database scenario. We will:  \n",
    "1. Create the necessary tables.\n",
    "2. Insert sample data.\n",
    "3. Perform various queries to extract insights.\n"
   ]
  },
  {
   "cell_type": "markdown",
   "id": "9e61bddf-add5-4492-a634-be0209351dfb",
   "metadata": {},
   "source": [
    "## 1. Create Tables\n",
    "We will create the following tables:  \n",
    "- **Customers**: Stores customer information.  \n",
    "- **Orders**: Stores order information linked to customers.  \n",
    "- **Products**: Stores product details.  \n",
    "- **OrderDetails**: Stores details of each order.\n"
   ]
  },
  {
   "cell_type": "code",
   "execution_count": 1,
   "id": "7188b861-2c6e-4dff-bd24-a9b09c6522bd",
   "metadata": {},
   "outputs": [],
   "source": [
    "import sqlite3\n",
    "import pandas as pd"
   ]
  },
  {
   "cell_type": "code",
   "execution_count": 3,
   "id": "33485cdc-70ba-4c7c-b288-10c37f6b4f89",
   "metadata": {},
   "outputs": [],
   "source": [
    "# Create a new SQLite database in memory\n",
    "\n",
    "conn = sqlite3.connect(':memory:')\n",
    "cursor = conn.cursor()\n"
   ]
  },
  {
   "cell_type": "code",
   "execution_count": 5,
   "id": "86da5299-01fe-4b7f-ad52-3f2f82029638",
   "metadata": {},
   "outputs": [
    {
     "data": {
      "text/plain": [
       "<sqlite3.Cursor at 0x137d5b7c0>"
      ]
     },
     "execution_count": 5,
     "metadata": {},
     "output_type": "execute_result"
    }
   ],
   "source": [
    "# 1. Create Tables    #let's create the Customers table\n",
    "cursor.execute('''\n",
    "    CREATE TABLE Customers (\n",
    "        customer_id INTEGER PRIMARY KEY,\n",
    "        name TEXT NOT NULL,\n",
    "        email TEXT NOT NULL,\n",
    "        join_date DATE NOT NULL\n",
    "    );\n",
    "''')"
   ]
  },
  {
   "cell_type": "code",
   "execution_count": 7,
   "id": "dae492a0-ec77-41d7-aa57-f327871f0972",
   "metadata": {},
   "outputs": [
    {
     "data": {
      "text/plain": [
       "<sqlite3.Cursor at 0x137d5b7c0>"
      ]
     },
     "execution_count": 7,
     "metadata": {},
     "output_type": "execute_result"
    }
   ],
   "source": [
    "#Let's create the Orders table\n",
    "\n",
    "cursor.execute('''\n",
    "    CREATE TABLE Orders (\n",
    "        order_id INTEGER PRIMARY KEY,\n",
    "        customer_id INTEGER,\n",
    "        order_date DATE NOT NULL,\n",
    "        total_amount DECIMAL NOT NULL,\n",
    "        FOREIGN KEY (customer_id) REFERENCES Customers(customer_id)\n",
    "    );\n",
    "''')"
   ]
  },
  {
   "cell_type": "code",
   "execution_count": 9,
   "id": "be484dba-726d-4826-9d03-f1781e7ddac6",
   "metadata": {},
   "outputs": [
    {
     "data": {
      "text/plain": [
       "<sqlite3.Cursor at 0x137d5b7c0>"
      ]
     },
     "execution_count": 9,
     "metadata": {},
     "output_type": "execute_result"
    }
   ],
   "source": [
    "#Let's create the Products table\n",
    "\n",
    "cursor.execute('''\n",
    "    CREATE TABLE Products (\n",
    "        product_id INTEGER PRIMARY KEY,\n",
    "        product_name TEXT NOT NULL,\n",
    "        category TEXT NOT NULL,\n",
    "        price DECIMAL NOT NULL\n",
    "    );\n",
    "''')\n"
   ]
  },
  {
   "cell_type": "code",
   "execution_count": 11,
   "id": "ca7a53ab-04fa-49c3-8b04-00110234f427",
   "metadata": {},
   "outputs": [
    {
     "data": {
      "text/plain": [
       "<sqlite3.Cursor at 0x137d5b7c0>"
      ]
     },
     "execution_count": 11,
     "metadata": {},
     "output_type": "execute_result"
    }
   ],
   "source": [
    "#Let's create the OrderDetails table\n",
    "\n",
    "cursor.execute('''\n",
    "    CREATE TABLE OrderDetails (\n",
    "        order_detail_id INTEGER PRIMARY KEY,\n",
    "        order_id INTEGER,\n",
    "        product_id INTEGER,\n",
    "        quantity INTEGER NOT NULL,\n",
    "        price DECIMAL NOT NULL,\n",
    "        FOREIGN KEY (order_id) REFERENCES Orders(order_id),\n",
    "        FOREIGN KEY (product_id) REFERENCES Products(product_id)\n",
    "    );\n",
    "''')"
   ]
  },
  {
   "cell_type": "markdown",
   "id": "34658420-4b8b-4d07-acc5-b67e73fcff28",
   "metadata": {},
   "source": [
    "### 2. Insert Sample Data\n",
    "#### We will insert at least 5 rows of sample data into each table."
   ]
  },
  {
   "cell_type": "code",
   "execution_count": 14,
   "id": "8083127a-c963-4682-baf2-6e89c0b692ff",
   "metadata": {},
   "outputs": [
    {
     "data": {
      "text/plain": [
       "<sqlite3.Cursor at 0x137d5b7c0>"
      ]
     },
     "execution_count": 14,
     "metadata": {},
     "output_type": "execute_result"
    }
   ],
   "source": [
    "# Insert Values into Customers table\n",
    "\n",
    "cursor.executemany('''\n",
    "    INSERT INTO Customers (name, email, join_date) VALUES (?, ?, ?);\n",
    "''', [\n",
    "    ('Alice', 'alice@example.com', '2025-01-01'),\n",
    "    ('Bob', 'bob@example.com', '2025-01-15'),\n",
    "    ('Charlie', 'charlie@example.com', '2024-12-20'),\n",
    "    ('Diana', 'diana@example.com', '2025-02-10'),\n",
    "    ('Eve', 'eve@example.com', '2024-11-25')\n",
    "])"
   ]
  },
  {
   "cell_type": "code",
   "execution_count": 16,
   "id": "819f7dcc-8109-4d58-a3d4-30597f356732",
   "metadata": {},
   "outputs": [
    {
     "data": {
      "text/plain": [
       "<sqlite3.Cursor at 0x137d5b7c0>"
      ]
     },
     "execution_count": 16,
     "metadata": {},
     "output_type": "execute_result"
    }
   ],
   "source": [
    "#Insert Values into the Products table\n",
    "\n",
    "cursor.executemany('''\n",
    "    INSERT INTO Products (product_name, category, price) VALUES (?, ?, ?);\n",
    "''', [\n",
    "    ('Laptop', 'Electronics', 1000.00),\n",
    "    ('Headphones', 'Electronics', 100.00),\n",
    "    ('Coffee Maker', 'Home Appliances', 50.00),\n",
    "    ('Smartphone', 'Electronics', 800.00),\n",
    "    ('Book', 'Stationery', 20.00)\n",
    "])\n"
   ]
  },
  {
   "cell_type": "code",
   "execution_count": 18,
   "id": "05bcfbdf-3214-4947-a527-d7e4a30ad98d",
   "metadata": {},
   "outputs": [
    {
     "data": {
      "text/plain": [
       "<sqlite3.Cursor at 0x137d5b7c0>"
      ]
     },
     "execution_count": 18,
     "metadata": {},
     "output_type": "execute_result"
    }
   ],
   "source": [
    "#Insert Values into the Orders Table\n",
    "\n",
    "cursor.executemany('''\n",
    "    INSERT INTO Orders (customer_id, order_date, total_amount) VALUES (?, ?, ?);\n",
    "''', [\n",
    "    (1, '2025-01-02', 1100.00),\n",
    "    (2, '2025-01-16', 100.00),\n",
    "    (3, '2025-01-20', 850.00),\n",
    "    (1, '2025-02-05', 20.00),\n",
    "    (4, '2025-02-12', 50.00)\n",
    "])"
   ]
  },
  {
   "cell_type": "code",
   "execution_count": 20,
   "id": "4cfa4b44-0946-488c-8932-d0c3f2125786",
   "metadata": {},
   "outputs": [
    {
     "data": {
      "text/plain": [
       "<sqlite3.Cursor at 0x137d5b7c0>"
      ]
     },
     "execution_count": 20,
     "metadata": {},
     "output_type": "execute_result"
    }
   ],
   "source": [
    "#Insert Values into the OrderDetails Table\n",
    "\n",
    "cursor.executemany('''\n",
    "    INSERT INTO OrderDetails (order_id, product_id, quantity, price) VALUES (?, ?, ?, ?);\n",
    "''', [\n",
    "    (1, 1, 1, 1000.00),\n",
    "    (1, 2, 1, 100.00),\n",
    "    (2, 2, 1, 100.00),\n",
    "    (3, 4, 1, 800.00),\n",
    "    (3, 2, 1, 50.00),\n",
    "    (4, 5, 1, 20.00),\n",
    "    (5, 3, 1, 50.00)\n",
    "])"
   ]
  },
  {
   "cell_type": "code",
   "execution_count": 22,
   "id": "eb2cd027-0866-439f-860b-187930c688fb",
   "metadata": {},
   "outputs": [],
   "source": [
    "conn.commit()"
   ]
  },
  {
   "cell_type": "markdown",
   "id": "57de02dc-ad17-4264-8c32-0929760ba671",
   "metadata": {},
   "source": [
    "### 3. Queries\n",
    "### Customers who joined in the last 30 days\n"
   ]
  },
  {
   "cell_type": "code",
   "execution_count": 25,
   "id": "92ae2dab-fa75-4c64-a68e-00552c92a3ba",
   "metadata": {},
   "outputs": [],
   "source": [
    "query_a = '''\n",
    "    SELECT * FROM Customers\n",
    "    WHERE join_date >= DATE('now', '-30 days');\n",
    "'''"
   ]
  },
  {
   "cell_type": "code",
   "execution_count": 27,
   "id": "92656a42-4552-48a8-bbfb-c541abdfc92c",
   "metadata": {},
   "outputs": [
    {
     "data": {
      "text/html": [
       "<div>\n",
       "<style scoped>\n",
       "    .dataframe tbody tr th:only-of-type {\n",
       "        vertical-align: middle;\n",
       "    }\n",
       "\n",
       "    .dataframe tbody tr th {\n",
       "        vertical-align: top;\n",
       "    }\n",
       "\n",
       "    .dataframe thead th {\n",
       "        text-align: right;\n",
       "    }\n",
       "</style>\n",
       "<table border=\"1\" class=\"dataframe\">\n",
       "  <thead>\n",
       "    <tr style=\"text-align: right;\">\n",
       "      <th></th>\n",
       "      <th>customer_id</th>\n",
       "      <th>name</th>\n",
       "      <th>email</th>\n",
       "      <th>join_date</th>\n",
       "    </tr>\n",
       "  </thead>\n",
       "  <tbody>\n",
       "    <tr>\n",
       "      <th>0</th>\n",
       "      <td>4</td>\n",
       "      <td>Diana</td>\n",
       "      <td>diana@example.com</td>\n",
       "      <td>2025-02-10</td>\n",
       "    </tr>\n",
       "  </tbody>\n",
       "</table>\n",
       "</div>"
      ],
      "text/plain": [
       "   customer_id   name              email   join_date\n",
       "0            4  Diana  diana@example.com  2025-02-10"
      ]
     },
     "execution_count": 27,
     "metadata": {},
     "output_type": "execute_result"
    }
   ],
   "source": [
    "df_a = pd.read_sql_query(query_a, conn)\n",
    "df_a"
   ]
  },
  {
   "cell_type": "markdown",
   "id": "55ca8548-9236-4ab7-b53e-4c19c334463a",
   "metadata": {},
   "source": [
    "### Total sales amount for each customer"
   ]
  },
  {
   "cell_type": "code",
   "execution_count": 30,
   "id": "ef3556df-b8ef-4d7e-9679-95fe42a1b5fe",
   "metadata": {},
   "outputs": [],
   "source": [
    "query_b = '''\n",
    "    SELECT C.name, SUM(O.total_amount) AS total_spent\n",
    "    FROM Customers C\n",
    "    LEFT JOIN Orders O ON C.customer_id = O.customer_id\n",
    "    GROUP BY C.customer_id;\n",
    "'''"
   ]
  },
  {
   "cell_type": "code",
   "execution_count": 32,
   "id": "b1d562f0-7ff2-4946-bbc3-c7c9e84ed769",
   "metadata": {},
   "outputs": [
    {
     "data": {
      "text/html": [
       "<div>\n",
       "<style scoped>\n",
       "    .dataframe tbody tr th:only-of-type {\n",
       "        vertical-align: middle;\n",
       "    }\n",
       "\n",
       "    .dataframe tbody tr th {\n",
       "        vertical-align: top;\n",
       "    }\n",
       "\n",
       "    .dataframe thead th {\n",
       "        text-align: right;\n",
       "    }\n",
       "</style>\n",
       "<table border=\"1\" class=\"dataframe\">\n",
       "  <thead>\n",
       "    <tr style=\"text-align: right;\">\n",
       "      <th></th>\n",
       "      <th>name</th>\n",
       "      <th>total_spent</th>\n",
       "    </tr>\n",
       "  </thead>\n",
       "  <tbody>\n",
       "    <tr>\n",
       "      <th>0</th>\n",
       "      <td>Alice</td>\n",
       "      <td>1120.0</td>\n",
       "    </tr>\n",
       "    <tr>\n",
       "      <th>1</th>\n",
       "      <td>Bob</td>\n",
       "      <td>100.0</td>\n",
       "    </tr>\n",
       "    <tr>\n",
       "      <th>2</th>\n",
       "      <td>Charlie</td>\n",
       "      <td>850.0</td>\n",
       "    </tr>\n",
       "    <tr>\n",
       "      <th>3</th>\n",
       "      <td>Diana</td>\n",
       "      <td>50.0</td>\n",
       "    </tr>\n",
       "    <tr>\n",
       "      <th>4</th>\n",
       "      <td>Eve</td>\n",
       "      <td>NaN</td>\n",
       "    </tr>\n",
       "  </tbody>\n",
       "</table>\n",
       "</div>"
      ],
      "text/plain": [
       "      name  total_spent\n",
       "0    Alice       1120.0\n",
       "1      Bob        100.0\n",
       "2  Charlie        850.0\n",
       "3    Diana         50.0\n",
       "4      Eve          NaN"
      ]
     },
     "execution_count": 32,
     "metadata": {},
     "output_type": "execute_result"
    }
   ],
   "source": [
    "df_b = pd.read_sql_query(query_b, conn)\n",
    "df_b"
   ]
  },
  {
   "cell_type": "markdown",
   "id": "4d9e6e62-7ce1-4669-bd30-0654bfcdacdf",
   "metadata": {},
   "source": [
    "### Top 3 best-selling products by quantity\n"
   ]
  },
  {
   "cell_type": "code",
   "execution_count": 35,
   "id": "b2ff758e-7f1f-421a-974b-c8598daf5663",
   "metadata": {},
   "outputs": [],
   "source": [
    "query_c = '''\n",
    "    SELECT P.product_name, SUM(OD.quantity) AS total_sold\n",
    "    FROM Products P\n",
    "    JOIN OrderDetails OD ON P.product_id = OD.product_id\n",
    "    GROUP BY P.product_id\n",
    "    ORDER BY total_sold DESC\n",
    "    LIMIT 3;\n",
    "'''"
   ]
  },
  {
   "cell_type": "code",
   "execution_count": 37,
   "id": "eb99e58b-ba47-4c0c-af5c-2e2add8c14c4",
   "metadata": {},
   "outputs": [
    {
     "data": {
      "text/html": [
       "<div>\n",
       "<style scoped>\n",
       "    .dataframe tbody tr th:only-of-type {\n",
       "        vertical-align: middle;\n",
       "    }\n",
       "\n",
       "    .dataframe tbody tr th {\n",
       "        vertical-align: top;\n",
       "    }\n",
       "\n",
       "    .dataframe thead th {\n",
       "        text-align: right;\n",
       "    }\n",
       "</style>\n",
       "<table border=\"1\" class=\"dataframe\">\n",
       "  <thead>\n",
       "    <tr style=\"text-align: right;\">\n",
       "      <th></th>\n",
       "      <th>product_name</th>\n",
       "      <th>total_sold</th>\n",
       "    </tr>\n",
       "  </thead>\n",
       "  <tbody>\n",
       "    <tr>\n",
       "      <th>0</th>\n",
       "      <td>Headphones</td>\n",
       "      <td>3</td>\n",
       "    </tr>\n",
       "    <tr>\n",
       "      <th>1</th>\n",
       "      <td>Book</td>\n",
       "      <td>1</td>\n",
       "    </tr>\n",
       "    <tr>\n",
       "      <th>2</th>\n",
       "      <td>Smartphone</td>\n",
       "      <td>1</td>\n",
       "    </tr>\n",
       "  </tbody>\n",
       "</table>\n",
       "</div>"
      ],
      "text/plain": [
       "  product_name  total_sold\n",
       "0   Headphones           3\n",
       "1         Book           1\n",
       "2   Smartphone           1"
      ]
     },
     "execution_count": 37,
     "metadata": {},
     "output_type": "execute_result"
    }
   ],
   "source": [
    "df_c = pd.read_sql_query(query_c, conn)\n",
    "df_c"
   ]
  },
  {
   "cell_type": "markdown",
   "id": "6ed27849-ac10-4e6d-b5d5-91f657070a84",
   "metadata": {},
   "source": [
    "### Order details for Alice"
   ]
  },
  {
   "cell_type": "code",
   "execution_count": 40,
   "id": "b1a2a515-0073-4ced-8150-700255559a23",
   "metadata": {},
   "outputs": [],
   "source": [
    "query_d = '''\n",
    "    SELECT O.order_id, P.product_name, OD.quantity, OD.price, (OD.quantity * OD.price) AS total_amount\n",
    "    FROM Orders O\n",
    "    JOIN OrderDetails OD ON O.order_id = OD.order_id\n",
    "    JOIN Products P ON OD.product_id = P.product_id\n",
    "    WHERE O.customer_id = 1;\n",
    "'''\n"
   ]
  },
  {
   "cell_type": "code",
   "execution_count": 42,
   "id": "19a5ab07-776e-4727-ba8f-2e3cf0fad98c",
   "metadata": {},
   "outputs": [
    {
     "data": {
      "text/html": [
       "<div>\n",
       "<style scoped>\n",
       "    .dataframe tbody tr th:only-of-type {\n",
       "        vertical-align: middle;\n",
       "    }\n",
       "\n",
       "    .dataframe tbody tr th {\n",
       "        vertical-align: top;\n",
       "    }\n",
       "\n",
       "    .dataframe thead th {\n",
       "        text-align: right;\n",
       "    }\n",
       "</style>\n",
       "<table border=\"1\" class=\"dataframe\">\n",
       "  <thead>\n",
       "    <tr style=\"text-align: right;\">\n",
       "      <th></th>\n",
       "      <th>order_id</th>\n",
       "      <th>product_name</th>\n",
       "      <th>quantity</th>\n",
       "      <th>price</th>\n",
       "      <th>total_amount</th>\n",
       "    </tr>\n",
       "  </thead>\n",
       "  <tbody>\n",
       "    <tr>\n",
       "      <th>0</th>\n",
       "      <td>1</td>\n",
       "      <td>Laptop</td>\n",
       "      <td>1</td>\n",
       "      <td>1000</td>\n",
       "      <td>1000</td>\n",
       "    </tr>\n",
       "    <tr>\n",
       "      <th>1</th>\n",
       "      <td>1</td>\n",
       "      <td>Headphones</td>\n",
       "      <td>1</td>\n",
       "      <td>100</td>\n",
       "      <td>100</td>\n",
       "    </tr>\n",
       "    <tr>\n",
       "      <th>2</th>\n",
       "      <td>4</td>\n",
       "      <td>Book</td>\n",
       "      <td>1</td>\n",
       "      <td>20</td>\n",
       "      <td>20</td>\n",
       "    </tr>\n",
       "  </tbody>\n",
       "</table>\n",
       "</div>"
      ],
      "text/plain": [
       "   order_id product_name  quantity  price  total_amount\n",
       "0         1       Laptop         1   1000          1000\n",
       "1         1   Headphones         1    100           100\n",
       "2         4         Book         1     20            20"
      ]
     },
     "execution_count": 42,
     "metadata": {},
     "output_type": "execute_result"
    }
   ],
   "source": [
    "df_d = pd.read_sql_query(query_d, conn)\n",
    "df_d"
   ]
  },
  {
   "cell_type": "markdown",
   "id": "721aba92-d1da-4439-917b-b2573aa69360",
   "metadata": {},
   "source": [
    "### Customers who have never placed an order"
   ]
  },
  {
   "cell_type": "code",
   "execution_count": 45,
   "id": "6c133f07-b9cc-4103-94ea-f80ea7ea0bcf",
   "metadata": {},
   "outputs": [],
   "source": [
    "query_e = '''\n",
    "    SELECT C.name\n",
    "    FROM Customers C\n",
    "    LEFT JOIN Orders O ON C.customer_id = O.customer_id\n",
    "    WHERE O.order_id IS NULL;\n",
    "'''"
   ]
  },
  {
   "cell_type": "code",
   "execution_count": 47,
   "id": "b8ffe938-b3aa-4509-af85-8c531928eab0",
   "metadata": {},
   "outputs": [
    {
     "data": {
      "text/html": [
       "<div>\n",
       "<style scoped>\n",
       "    .dataframe tbody tr th:only-of-type {\n",
       "        vertical-align: middle;\n",
       "    }\n",
       "\n",
       "    .dataframe tbody tr th {\n",
       "        vertical-align: top;\n",
       "    }\n",
       "\n",
       "    .dataframe thead th {\n",
       "        text-align: right;\n",
       "    }\n",
       "</style>\n",
       "<table border=\"1\" class=\"dataframe\">\n",
       "  <thead>\n",
       "    <tr style=\"text-align: right;\">\n",
       "      <th></th>\n",
       "      <th>name</th>\n",
       "    </tr>\n",
       "  </thead>\n",
       "  <tbody>\n",
       "    <tr>\n",
       "      <th>0</th>\n",
       "      <td>Eve</td>\n",
       "    </tr>\n",
       "  </tbody>\n",
       "</table>\n",
       "</div>"
      ],
      "text/plain": [
       "  name\n",
       "0  Eve"
      ]
     },
     "execution_count": 47,
     "metadata": {},
     "output_type": "execute_result"
    }
   ],
   "source": [
    "df_e = pd.read_sql_query(query_e, conn)\n",
    "df_e"
   ]
  },
  {
   "cell_type": "code",
   "execution_count": 49,
   "id": "4377fade-64b0-4f86-b7f9-be79014de078",
   "metadata": {},
   "outputs": [],
   "source": [
    "## Closing the Connection\n",
    "conn.close()"
   ]
  },
  {
   "cell_type": "code",
   "execution_count": null,
   "id": "6a43b39a-3b65-4a92-ad39-243dd41e5431",
   "metadata": {},
   "outputs": [],
   "source": []
  }
 ],
 "metadata": {
  "kernelspec": {
   "display_name": "Python [conda env:base] *",
   "language": "python",
   "name": "conda-base-py"
  },
  "language_info": {
   "codemirror_mode": {
    "name": "ipython",
    "version": 3
   },
   "file_extension": ".py",
   "mimetype": "text/x-python",
   "name": "python",
   "nbconvert_exporter": "python",
   "pygments_lexer": "ipython3",
   "version": "3.12.7"
  }
 },
 "nbformat": 4,
 "nbformat_minor": 5
}
